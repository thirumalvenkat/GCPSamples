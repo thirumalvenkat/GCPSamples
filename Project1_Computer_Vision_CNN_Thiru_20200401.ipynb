{
  "nbformat": 4,
  "nbformat_minor": 0,
  "metadata": {
    "colab": {
      "name": "Project1_Computer_Vision_CNN_Thiru_20200401.ipynb",
      "provenance": [],
      "collapsed_sections": [
        "SVCgfewgszGk",
        "1uSmyKBDJ2v3",
        "L7Gs0ZeyJ7MH"
      ],
      "include_colab_link": true
    },
    "kernelspec": {
      "name": "python3",
      "display_name": "Python 3"
    },
    "accelerator": "GPU"
  },
  "cells": [
    {
      "cell_type": "markdown",
      "metadata": {
        "id": "view-in-github",
        "colab_type": "text"
      },
      "source": [
        "<a href=\"https://colab.research.google.com/github/thirumalvenkat/GCPSamples/blob/master/Project1_Computer_Vision_CNN_Thiru_20200401.ipynb\" target=\"_parent\"><img src=\"https://colab.research.google.com/assets/colab-badge.svg\" alt=\"Open In Colab\"/></a>"
      ]
    },
    {
      "cell_type": "markdown",
      "metadata": {
        "id": "8bOqM7PEseDo",
        "colab_type": "text"
      },
      "source": [
        "### **Differentiate a weed from a crop seedling based on CNN approach**\n",
        "\n",
        "---\n",
        "\n",
        "\n",
        "### **Model designed and built by Thirumalvalavan V**"
      ]
    },
    {
      "cell_type": "markdown",
      "metadata": {
        "id": "SVCgfewgszGk",
        "colab_type": "text"
      },
      "source": [
        "##01 Install required software to download the dataset from Kaggle"
      ]
    },
    {
      "cell_type": "code",
      "metadata": {
        "id": "Db-_fjoEscCl",
        "colab_type": "code",
        "colab": {}
      },
      "source": [
        "%tensorflow_version 2.x"
      ],
      "execution_count": 0,
      "outputs": []
    },
    {
      "cell_type": "markdown",
      "metadata": {
        "id": "IB_XcKCimKS3",
        "colab_type": "text"
      },
      "source": [
        "# 02 - As Kaggle Download has issues as it limits the number of files downloaded and not entire Zip, Downloaded to Google drive and mounted it"
      ]
    },
    {
      "cell_type": "code",
      "metadata": {
        "id": "KfXO4jiwrpgE",
        "colab_type": "code",
        "outputId": "ad7c6e67-dc31-4fd5-fb91-687ae21cc57d",
        "colab": {
          "base_uri": "https://localhost:8080/",
          "height": 0
        }
      },
      "source": [
        "from google.colab import drive\n",
        "drive.mount('/content/gdrive')"
      ],
      "execution_count": 37,
      "outputs": [
        {
          "output_type": "stream",
          "text": [
            "Drive already mounted at /content/gdrive; to attempt to forcibly remount, call drive.mount(\"/content/gdrive\", force_remount=True).\n"
          ],
          "name": "stdout"
        }
      ]
    },
    {
      "cell_type": "code",
      "metadata": {
        "id": "q7-1x7c-t2A7",
        "colab_type": "code",
        "colab": {}
      },
      "source": [
        "!target_path='/content/gdrive/My Drive/plantseed'"
      ],
      "execution_count": 0,
      "outputs": []
    },
    {
      "cell_type": "markdown",
      "metadata": {
        "id": "1uSmyKBDJ2v3",
        "colab_type": "text"
      },
      "source": [
        "# 03 - Unzip the files "
      ]
    },
    {
      "cell_type": "code",
      "metadata": {
        "id": "4jaN27la8sVr",
        "colab_type": "code",
        "colab": {}
      },
      "source": [
        "import os\n",
        "#!unzip /content/gdrive/My\\ Drive/plantseed/plant-seedlings-classification.zip\n",
        "os.chdir('/content/gdrive/My Drive/plantseed')  #change dir"
      ],
      "execution_count": 0,
      "outputs": []
    },
    {
      "cell_type": "markdown",
      "metadata": {
        "id": "L7Gs0ZeyJ7MH",
        "colab_type": "text"
      },
      "source": [
        "# 04 - View the sample pictures and understand the characteristics and the type of folder structure etc."
      ]
    },
    {
      "cell_type": "code",
      "metadata": {
        "id": "uYqXi9j-mNfk",
        "colab_type": "code",
        "colab": {}
      },
      "source": [
        "train_dir='/content/gdrive/My\\ Drive/plantseed'"
      ],
      "execution_count": 0,
      "outputs": []
    },
    {
      "cell_type": "code",
      "metadata": {
        "id": "ePOuP-wiKHso",
        "colab_type": "code",
        "outputId": "4b5a9e5f-b45a-464e-bf0e-c1d48e6fb1f1",
        "colab": {
          "base_uri": "https://localhost:8080/",
          "height": 255
        }
      },
      "source": [
        "!ls -l $train_dir/train\n",
        "!ls $train_dir/test | wc"
      ],
      "execution_count": 41,
      "outputs": [
        {
          "output_type": "stream",
          "text": [
            "total 48\n",
            "drwx------ 2 root root 4096 Apr  1 06:37  Black-grass\n",
            "drwx------ 2 root root 4096 Apr  1 06:37  Charlock\n",
            "drwx------ 2 root root 4096 Apr  1 06:37  Cleavers\n",
            "drwx------ 2 root root 4096 Apr  1 06:37 'Common Chickweed'\n",
            "drwx------ 2 root root 4096 Apr  1 06:37 'Common wheat'\n",
            "drwx------ 2 root root 4096 Apr  1 06:37 'Fat Hen'\n",
            "drwx------ 2 root root 4096 Apr  1 06:37 'Loose Silky-bent'\n",
            "drwx------ 2 root root 4096 Apr  1 06:37  Maize\n",
            "drwx------ 2 root root 4096 Apr  1 06:38 'Scentless Mayweed'\n",
            "drwx------ 2 root root 4096 Apr  1 06:38 'Shepherds Purse'\n",
            "drwx------ 2 root root 4096 Apr  1 06:38 'Small-flowered Cranesbill'\n",
            "drwx------ 2 root root 4096 Apr  1 06:38 'Sugar beet'\n",
            "    794     794   11116\n"
          ],
          "name": "stdout"
        }
      ]
    },
    {
      "cell_type": "code",
      "metadata": {
        "id": "Idt-wo0HLcFC",
        "colab_type": "code",
        "colab": {}
      },
      "source": [
        "import tensorflow as tf\n",
        "from tensorflow import keras"
      ],
      "execution_count": 0,
      "outputs": []
    },
    {
      "cell_type": "code",
      "metadata": {
        "id": "TC_tlnNewF2J",
        "colab_type": "code",
        "outputId": "66ef4a68-6dd0-486d-89fe-41cea2104117",
        "colab": {
          "base_uri": "https://localhost:8080/",
          "height": 83
        }
      },
      "source": [
        "#Load an image using Keras image class\n",
        "image_file = '/content/gdrive/My Drive/plantseed/train/Maize/0419f5bbc.png'\n",
        "Maize_image = keras.preprocessing.image.load_img(image_file)\n",
        "#Inspect image\n",
        "Maize_image"
      ],
      "execution_count": 43,
      "outputs": [
        {
          "output_type": "execute_result",
          "data": {
            "image/png": "[encoded data removed]",
            "text/plain": [
              "<PIL.PngImagePlugin.PngImageFile image mode=RGB size=66x66 at 0x7F7B160D07B8>"
            ]
          },
          "metadata": {
            "tags": []
          },
          "execution_count": 43
        }
      ]
    },
    {
      "cell_type": "code",
      "metadata": {
        "id": "KWFiyohgLaUi",
        "colab_type": "code",
        "outputId": "cde52bb8-b7f5-4fcf-d501-96d6fe9fd228",
        "colab": {
          "base_uri": "https://localhost:8080/",
          "height": 34
        }
      },
      "source": [
        "Maize_image.size"
      ],
      "execution_count": 44,
      "outputs": [
        {
          "output_type": "execute_result",
          "data": {
            "text/plain": [
              "(66, 66)"
            ]
          },
          "metadata": {
            "tags": []
          },
          "execution_count": 44
        }
      ]
    },
    {
      "cell_type": "code",
      "metadata": {
        "id": "U3gyPTg6Ltys",
        "colab_type": "code",
        "outputId": "b9db50e9-8ead-4808-e208-63d1254a86b5",
        "colab": {
          "base_uri": "https://localhost:8080/",
          "height": 81
        }
      },
      "source": [
        "Maize_image.resize([64,64])"
      ],
      "execution_count": 45,
      "outputs": [
        {
          "output_type": "execute_result",
          "data": {
            "image/png": "[encoded data removed]",
            "text/plain": [
              "<PIL.Image.Image image mode=RGB size=64x64 at 0x7F7B160D04A8>"
            ]
          },
          "metadata": {
            "tags": []
          },
          "execution_count": 45
        }
      ]
    },
    {
      "cell_type": "markdown",
      "metadata": {
        "id": "d9j90B_yMtm3",
        "colab_type": "text"
      },
      "source": [
        "# 05 - Image Generator to process the pictures"
      ]
    },
    {
      "cell_type": "code",
      "metadata": {
        "id": "Dy-bxkh0MyXN",
        "colab_type": "code",
        "colab": {}
      },
      "source": [
        "img_generator= keras.preprocessing.image.ImageDataGenerator(validation_split=0.3)"
      ],
      "execution_count": 0,
      "outputs": []
    },
    {
      "cell_type": "code",
      "metadata": {
        "id": "SC0eTskZNT-T",
        "colab_type": "code",
        "colab": {}
      },
      "source": [
        "photos_path = '/content/gdrive/My Drive/plantseed/train/'\n",
        "photos_path_test = '/content/gdrive/My Drive/plantseed/test'"
      ],
      "execution_count": 0,
      "outputs": []
    },
    {
      "cell_type": "code",
      "metadata": {
        "id": "vUIOdeXYdpvL",
        "colab_type": "code",
        "colab": {}
      },
      "source": [
        "image_size=56\n",
        "batch_s=32"
      ],
      "execution_count": 0,
      "outputs": []
    },
    {
      "cell_type": "code",
      "metadata": {
        "id": "PyasWizIM36U",
        "colab_type": "code",
        "outputId": "5e6c99f8-f8b7-4ad3-f8c8-27eec687a0e7",
        "colab": {
          "base_uri": "https://localhost:8080/",
          "height": 34
        }
      },
      "source": [
        "#Build training generator. \n",
        "train_generator = img_generator.flow_from_directory(photos_path,\n",
        "                                                    target_size=(image_size, image_size),\n",
        "                                                    subset='training',\n",
        "                                                    batch_size=batch_s,\n",
        "                                                    class_mode=\"categorical\",\n",
        "                                                    shuffle=True)"
      ],
      "execution_count": 49,
      "outputs": [
        {
          "output_type": "stream",
          "text": [
            "Found 3330 images belonging to 12 classes.\n"
          ],
          "name": "stdout"
        }
      ]
    },
    {
      "cell_type": "markdown",
      "metadata": {
        "id": "yS2a9bOSA_CX",
        "colab_type": "text"
      },
      "source": [
        ""
      ]
    },
    {
      "cell_type": "code",
      "metadata": {
        "id": "2uC7gtr8FwPO",
        "colab_type": "code",
        "outputId": "0a7f9785-1af7-4de2-e521-f4ad7adc67f2",
        "colab": {
          "base_uri": "https://localhost:8080/",
          "height": 34
        }
      },
      "source": [
        "#Build training generator. \n",
        "valid_generator = img_generator.flow_from_directory(photos_path,\n",
        "                                                    target_size=(image_size, image_size),\n",
        "                                                    subset='validation',\n",
        "                                                    batch_size=batch_s,\n",
        "                                                    class_mode=\"categorical\",\n",
        "                                                    shuffle=True\n",
        "                                                   )"
      ],
      "execution_count": 50,
      "outputs": [
        {
          "output_type": "stream",
          "text": [
            "Found 1420 images belonging to 12 classes.\n"
          ],
          "name": "stdout"
        }
      ]
    },
    {
      "cell_type": "code",
      "metadata": {
        "id": "KM7acF58OBXU",
        "colab_type": "code",
        "outputId": "5c07eef7-d51f-4a6d-b838-d0d858d4526a",
        "colab": {
          "base_uri": "https://localhost:8080/",
          "height": 51
        }
      },
      "source": [
        "#Lets check the features (images) and Labels (plant seed class) returned by ImageDataGenerator\n",
        "train_images, train_labels = next(train_generator)\n",
        "print('Input features shape', train_images.shape)\n",
        "print('Actual labels shape', train_labels.shape)"
      ],
      "execution_count": 51,
      "outputs": [
        {
          "output_type": "stream",
          "text": [
            "Input features shape (32, 56, 56, 3)\n",
            "Actual labels shape (32, 12)\n"
          ],
          "name": "stdout"
        }
      ]
    },
    {
      "cell_type": "code",
      "metadata": {
        "id": "ELip3nwC4oER",
        "colab_type": "code",
        "outputId": "41ff052e-6f3f-4f92-de3f-edb837b9548f",
        "colab": {
          "base_uri": "https://localhost:8080/",
          "height": 51
        }
      },
      "source": [
        "#Lets check the features (images) and Labels (plant seed class) returned by ImageDataGenerator\n",
        "valid_images, valid_labels = next(valid_generator)\n",
        "print('Input features shape', valid_images.shape)\n",
        "print('Actual labels shape', valid_labels.shape)"
      ],
      "execution_count": 52,
      "outputs": [
        {
          "output_type": "stream",
          "text": [
            "Input features shape (32, 56, 56, 3)\n",
            "Actual labels shape (32, 12)\n"
          ],
          "name": "stdout"
        }
      ]
    },
    {
      "cell_type": "markdown",
      "metadata": {
        "id": "f7Fi5ci81kWF",
        "colab_type": "text"
      },
      "source": [
        "## 06 Model Build"
      ]
    },
    {
      "cell_type": "code",
      "metadata": {
        "id": "Y1JR5jBe76UO",
        "colab_type": "code",
        "colab": {}
      },
      "source": [
        "keras.backend.clear_session()"
      ],
      "execution_count": 0,
      "outputs": []
    },
    {
      "cell_type": "code",
      "metadata": {
        "id": "_yAOC0CAO5Yu",
        "colab_type": "code",
        "colab": {}
      },
      "source": [
        "plantseed_cnn_model = keras.Sequential([\n",
        "    keras.layers.BatchNormalization(input_shape=(image_size, image_size, 3)),\n",
        "    keras.layers.Conv2D(128, \n",
        "                                 kernel_size=(3,3), \n",
        "                                 activation='relu',padding=\"same\"),\n",
        "    keras.layers.Conv2D(128, kernel_size=(3,3), activation='relu',padding=\"same\"),\n",
        "    keras.layers.BatchNormalization(),\n",
        "    keras.layers.MaxPool2D(pool_size=(2,2)),\n",
        "    keras.layers.Conv2D(128, \n",
        "                                kernel_size=(3,3), \n",
        "                                activation='relu',padding=\"same\"),\n",
        "    keras.layers.Conv2D(128, kernel_size=(3,3), activation='relu',padding=\"same\"),\n",
        "    keras.layers.Conv2D(128, kernel_size=(3,3), activation='relu',padding=\"same\"),   \n",
        "    keras.layers.BatchNormalization(),\n",
        "    keras.layers.MaxPool2D(pool_size=(2,2)),\n",
        "    keras.layers.Conv2D(256, kernel_size=(3,3), activation='relu',padding=\"same\"),\n",
        "    keras.layers.Conv2D(256, kernel_size=(3,3), activation='relu',padding=\"same\"), \n",
        "    keras.layers.Conv2D(512, kernel_size=(3,3), activation='relu',padding=\"same\"),\n",
        "    keras.layers.BatchNormalization(),\n",
        "    keras.layers.MaxPool2D(pool_size=(2,2)), \n",
        "    keras.layers.Flatten(),\n",
        "    keras.layers.Dropout(0.25),\n",
        "    keras.layers.Dense(128, activation='relu'),\n",
        "    keras.layers.Dense(12, activation='softmax')\n",
        "])"
      ],
      "execution_count": 0,
      "outputs": []
    },
    {
      "cell_type": "code",
      "metadata": {
        "id": "wNAYCBQH9evM",
        "colab_type": "code",
        "colab": {}
      },
      "source": [
        "#Specify Loass and Optimizer\n",
        "plantseed_cnn_model.compile(optimizer='adam', loss='categorical_crossentropy', metrics=['accuracy'])"
      ],
      "execution_count": 0,
      "outputs": []
    },
    {
      "cell_type": "code",
      "metadata": {
        "id": "I77rAxtZsFBG",
        "colab_type": "code",
        "colab": {}
      },
      "source": [
        "#Saving the best model using model checkpoint callback\n",
        "model_checkpoint=tf.keras.callbacks.ModelCheckpoint('/content/gdrive/My Drive/plantseed/plant_seedling_20200401.h5', \n",
        "                                                    save_best_only=True, \n",
        "                                                    monitor='val_accuracy', \n",
        "                                                    mode='max', \n",
        "                                                    verbose=1)"
      ],
      "execution_count": 0,
      "outputs": []
    },
    {
      "cell_type": "code",
      "metadata": {
        "id": "xHUK7Ecf9nIu",
        "colab_type": "code",
        "outputId": "f068d611-2a40-452b-82d3-5ce20540c4ed",
        "colab": {
          "base_uri": "https://localhost:8080/",
          "height": 799
        }
      },
      "source": [
        "plantseed_cnn_model.summary()"
      ],
      "execution_count": 57,
      "outputs": [
        {
          "output_type": "stream",
          "text": [
            "Model: \"sequential\"\n",
            "_________________________________________________________________\n",
            "Layer (type)                 Output Shape              Param #   \n",
            "=================================================================\n",
            "batch_normalization (BatchNo (None, 56, 56, 3)         12        \n",
            "_________________________________________________________________\n",
            "conv2d (Conv2D)              (None, 56, 56, 128)       3584      \n",
            "_________________________________________________________________\n",
            "conv2d_1 (Conv2D)            (None, 56, 56, 128)       147584    \n",
            "_________________________________________________________________\n",
            "batch_normalization_1 (Batch (None, 56, 56, 128)       512       \n",
            "_________________________________________________________________\n",
            "max_pooling2d (MaxPooling2D) (None, 28, 28, 128)       0         \n",
            "_________________________________________________________________\n",
            "conv2d_2 (Conv2D)            (None, 28, 28, 128)       147584    \n",
            "_________________________________________________________________\n",
            "conv2d_3 (Conv2D)            (None, 28, 28, 128)       147584    \n",
            "_________________________________________________________________\n",
            "conv2d_4 (Conv2D)            (None, 28, 28, 128)       147584    \n",
            "_________________________________________________________________\n",
            "batch_normalization_2 (Batch (None, 28, 28, 128)       512       \n",
            "_________________________________________________________________\n",
            "max_pooling2d_1 (MaxPooling2 (None, 14, 14, 128)       0         \n",
            "_________________________________________________________________\n",
            "conv2d_5 (Conv2D)            (None, 14, 14, 256)       295168    \n",
            "_________________________________________________________________\n",
            "conv2d_6 (Conv2D)            (None, 14, 14, 256)       590080    \n",
            "_________________________________________________________________\n",
            "conv2d_7 (Conv2D)            (None, 14, 14, 512)       1180160   \n",
            "_________________________________________________________________\n",
            "batch_normalization_3 (Batch (None, 14, 14, 512)       2048      \n",
            "_________________________________________________________________\n",
            "max_pooling2d_2 (MaxPooling2 (None, 7, 7, 512)         0         \n",
            "_________________________________________________________________\n",
            "flatten (Flatten)            (None, 25088)             0         \n",
            "_________________________________________________________________\n",
            "dropout (Dropout)            (None, 25088)             0         \n",
            "_________________________________________________________________\n",
            "dense (Dense)                (None, 128)               3211392   \n",
            "_________________________________________________________________\n",
            "dense_1 (Dense)              (None, 12)                1548      \n",
            "=================================================================\n",
            "Total params: 5,875,352\n",
            "Trainable params: 5,873,810\n",
            "Non-trainable params: 1,542\n",
            "_________________________________________________________________\n"
          ],
          "name": "stdout"
        }
      ]
    },
    {
      "cell_type": "code",
      "metadata": {
        "id": "DDe29Pzp9s04",
        "colab_type": "code",
        "colab": {}
      },
      "source": [
        "#plantseed_cnn_model.fit_generator(train_generator, \n",
        "#                          epochs=20,\n",
        "#                          steps_per_epoch= 3330/32,  #Number of training images//batch_size\n",
        "#                          validation_data=valid_generator,\n",
        "#                          validation_steps = 1420/32,\n",
        "#                          callbacks = [model_checkpoint]) #Number of validation images//batch_size"
      ],
      "execution_count": 0,
      "outputs": []
    },
    {
      "cell_type": "code",
      "metadata": {
        "id": "uH_ZAabllEo_",
        "colab_type": "code",
        "colab": {}
      },
      "source": [
        "#plantseed_cnn_model.save('plant_seed_cnn_v1.h5')"
      ],
      "execution_count": 0,
      "outputs": []
    },
    {
      "cell_type": "markdown",
      "metadata": {
        "id": "Cxy_wB0O0qBO",
        "colab_type": "text"
      },
      "source": [
        "## 10 - Final Prediction on Test Data"
      ]
    },
    {
      "cell_type": "code",
      "metadata": {
        "id": "40lpyrRIyXvd",
        "colab_type": "code",
        "colab": {}
      },
      "source": [
        "from keras.models import load_model\n",
        "from keras.preprocessing import image\n",
        "import numpy as np\n",
        "from glob import glob\n",
        "import cv2\n",
        "from glob import glob\n",
        "from matplotlib import pyplot as plt\n",
        "import math\n",
        "import pandas as pd\n",
        "from sklearn import preprocessing"
      ],
      "execution_count": 0,
      "outputs": []
    },
    {
      "cell_type": "code",
      "metadata": {
        "id": "MZHI1v2lyiiY",
        "colab_type": "code",
        "colab": {}
      },
      "source": [
        "# path to model\n",
        "model_path = '/content/gdrive/My Drive/plantseed/plant_seed_cnn_v1.h5'"
      ],
      "execution_count": 0,
      "outputs": []
    },
    {
      "cell_type": "code",
      "metadata": {
        "id": "GonvGzT-h-yA",
        "colab_type": "code",
        "colab": {}
      },
      "source": [
        "# load the trained model\n",
        "plantseed_cnn_model.load_weights(filepath=model_path)"
      ],
      "execution_count": 0,
      "outputs": []
    },
    {
      "cell_type": "code",
      "metadata": {
        "id": "Vwj465qy5EBm",
        "colab_type": "code",
        "colab": {
          "base_uri": "https://localhost:8080/",
          "height": 17
        },
        "outputId": "0817528e-0762-4cb8-8a33-7f2fc7711c50"
      },
      "source": [
        "path = '/content/gdrive/My Drive/plantseed/train/*/*.png' \n",
        "files = glob(path)\n",
        "\n",
        "trainLabel = []\n",
        "j = 1\n",
        "num = len(files)\n",
        "\n",
        "# Obtain images and resizing, obtain labels\n",
        "for img in files:\n",
        "    print(str(j) + \"/\" + str(num), end=\"\\r\")\n",
        "    trainLabel.append(img.split('/')[-2])  # Get image label (folder name)\n",
        "    j += 1\n",
        "\n",
        "trainLabel = pd.DataFrame(trainLabel)  # Train labels set"
      ],
      "execution_count": 96,
      "outputs": [
        {
          "output_type": "stream",
          "text": [
            ""
          ],
          "name": "stdout"
        }
      ]
    },
    {
      "cell_type": "code",
      "metadata": {
        "id": "tetpy2mo5sy8",
        "colab_type": "code",
        "colab": {
          "base_uri": "https://localhost:8080/",
          "height": 68
        },
        "outputId": "71c5ca34-c3f5-4f3a-e324-ae178d296c7a"
      },
      "source": [
        "#Print all classes\n",
        "le = preprocessing.LabelEncoder()\n",
        "le.fit(trainLabel[0])\n",
        "print(\"Classes: \" + str(le.classes_))\n",
        "encodeTrainLabels = le.transform(trainLabel[0])"
      ],
      "execution_count": 97,
      "outputs": [
        {
          "output_type": "stream",
          "text": [
            "Classes: ['Black-grass' 'Charlock' 'Cleavers' 'Common Chickweed' 'Common wheat'\n",
            " 'Fat Hen' 'Loose Silky-bent' 'Maize' 'Scentless Mayweed'\n",
            " 'Shepherds Purse' 'Small-flowered Cranesbill' 'Sugar beet']\n"
          ],
          "name": "stdout"
        }
      ]
    },
    {
      "cell_type": "code",
      "metadata": {
        "id": "FuI9OdNfjUkH",
        "colab_type": "code",
        "colab": {
          "base_uri": "https://localhost:8080/",
          "height": 260
        },
        "outputId": "36d50082-f31b-4c3d-9ef6-45e7921d46e3"
      },
      "source": [
        "#Load Test Images\n",
        "path = '/content/gdrive/My Drive/plantseed/test/*.png'\n",
        "files = glob(path)\n",
        "\n",
        "testImg = []\n",
        "testId = []\n",
        "j = 1\n",
        "num = len(files)\n",
        "\n",
        "# Obtain images and resizing, obtain labels\n",
        "for img in files:\n",
        "    print(\"Obtain images: \" + str(j) + \"/\" + str(num), end='\\r')\n",
        "    testId.append(img.split('/')[-1])  # Images id's\n",
        "    testImg.append(cv2.resize(cv2.imread(img), (image_size, image_size)))\n",
        "    j += 1\n",
        "\n",
        "testImg = np.asarray(testImg)  # Train images set\n",
        "\n",
        "print(testImg.shape)\n",
        "\n",
        "for i in range(8):\n",
        "    plt.subplot(2, 4, i + 1)\n",
        "    plt.imshow(testImg[i])"
      ],
      "execution_count": 85,
      "outputs": [
        {
          "output_type": "stream",
          "text": [
            "(794, 56, 56, 3)\n"
          ],
          "name": "stdout"
        },
        {
          "output_type": "display_data",
          "data": {
            "image/png": "[encoded data removed]",
            "text/plain": [
              "<Figure size 432x288 with 8 Axes>"
            ]
          },
          "metadata": {
            "tags": []
          }
        }
      ]
    },
    {
      "cell_type": "code",
      "metadata": {
        "id": "1T_30D70x5B5",
        "colab_type": "code",
        "colab": {}
      },
      "source": [
        "pred = plantseed_cnn_model.predict(testImg)"
      ],
      "execution_count": 0,
      "outputs": []
    },
    {
      "cell_type": "code",
      "metadata": {
        "id": "8v_y9DnCzoyu",
        "colab_type": "code",
        "colab": {}
      },
      "source": [
        "# Write result to file\n",
        "predNum = np.argmax(pred, axis=1)\n",
        "predStr = le.classes_[predNum]\n",
        "\n",
        "res = {'file': testId, 'species': predStr}\n",
        "res = pd.DataFrame(res)\n",
        "res.to_csv(\"res.csv\", index=False)"
      ],
      "execution_count": 0,
      "outputs": []
    },
    {
      "cell_type": "markdown",
      "metadata": {
        "id": "SGkZc4Or6i5F",
        "colab_type": "text"
      },
      "source": [
        "## After Uploading to Kaggle. Ranking in Kaggle is 0.184 Rank ~800"
      ]
    },
    {
      "cell_type": "code",
      "metadata": {
        "id": "D0MGRlHg8PUg",
        "colab_type": "code",
        "colab": {}
      },
      "source": [
        ""
      ],
      "execution_count": 0,
      "outputs": []
    }
  ]
}